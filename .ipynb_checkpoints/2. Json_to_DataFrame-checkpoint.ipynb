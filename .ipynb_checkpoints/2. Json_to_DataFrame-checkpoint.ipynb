{
 "cells": [
  {
   "cell_type": "code",
   "execution_count": 5,
   "metadata": {},
   "outputs": [
    {
     "name": "stdout",
     "output_type": "stream",
     "text": [
      "Requirement already satisfied: tables in /home/marcussky/anaconda3/envs/indigo/lib/python3.6/site-packages\n",
      "Requirement already satisfied: numpy>=1.8.0 in /home/marcussky/anaconda3/envs/indigo/lib/python3.6/site-packages (from tables)\n",
      "Requirement already satisfied: numexpr>=2.5.2 in /home/marcussky/anaconda3/envs/indigo/lib/python3.6/site-packages (from tables)\n",
      "Requirement already satisfied: six>=1.9.0 in /home/marcussky/.local/lib/python3.6/site-packages (from tables)\n"
     ]
    }
   ],
   "source": [
    "!pip install tables"
   ]
  },
  {
   "cell_type": "code",
   "execution_count": 6,
   "metadata": {},
   "outputs": [],
   "source": [
    "'''We start by importing the pandas library for data transformation'''\n",
    "import pandas as pd\n",
    "import json\n",
    "import tables"
   ]
  },
  {
   "cell_type": "code",
   "execution_count": 3,
   "metadata": {},
   "outputs": [],
   "source": [
    "#array_reuters = pd.read_json(path_or_buf='./scrapy/news/reuters.json', orient='records', typ='frame')"
   ]
  },
  {
   "cell_type": "code",
   "execution_count": 4,
   "metadata": {},
   "outputs": [],
   "source": [
    "#array_reuters['date'] = pd.to_datetime(array_reuters['date'], format='%Y%m%d', errors='ignore')\n",
    "#array_reuters.dtypes"
   ]
  },
  {
   "cell_type": "code",
   "execution_count": 5,
   "metadata": {},
   "outputs": [],
   "source": [
    "#array_sens = pd.read_json(path_or_buf='./news_scraper/sens_small.json', orient='records', typ='frame')"
   ]
  },
  {
   "cell_type": "code",
   "execution_count": 6,
   "metadata": {},
   "outputs": [],
   "source": [
    "#array_sens.shape"
   ]
  },
  {
   "cell_type": "code",
   "execution_count": 20,
   "metadata": {},
   "outputs": [],
   "source": [
    "big_sens_data = pd.read_json(path_or_buf='./data/test/sens_lines.jsonlines',convert_dates=False,lines=True)"
   ]
  },
  {
   "cell_type": "code",
   "execution_count": 22,
   "metadata": {},
   "outputs": [
    {
     "data": {
      "text/html": [
       "<div>\n",
       "<style scoped>\n",
       "    .dataframe tbody tr th:only-of-type {\n",
       "        vertical-align: middle;\n",
       "    }\n",
       "\n",
       "    .dataframe tbody tr th {\n",
       "        vertical-align: top;\n",
       "    }\n",
       "\n",
       "    .dataframe thead th {\n",
       "        text-align: right;\n",
       "    }\n",
       "</style>\n",
       "<table border=\"1\" class=\"dataframe\">\n",
       "  <thead>\n",
       "    <tr style=\"text-align: right;\">\n",
       "      <th></th>\n",
       "      <th>date</th>\n",
       "      <th>section</th>\n",
       "      <th>text</th>\n",
       "      <th>title</th>\n",
       "      <th>url</th>\n",
       "    </tr>\n",
       "  </thead>\n",
       "  <tbody>\n",
       "    <tr>\n",
       "      <th>751</th>\n",
       "      <td>2017-11-15T08:10:00+00:00</td>\n",
       "      <td>sens</td>\n",
       "      <td>HUG 201711150010A-Renewal of cautionary announ...</td>\n",
       "      <td>HUGE GROUP LIMITED – Renewal of cautionary ann...</td>\n",
       "      <td>https://www.moneyweb.co.za/mny_sens/huge-group...</td>\n",
       "    </tr>\n",
       "  </tbody>\n",
       "</table>\n",
       "</div>"
      ],
      "text/plain": [
       "                          date section  \\\n",
       "751  2017-11-15T08:10:00+00:00    sens   \n",
       "\n",
       "                                                  text  \\\n",
       "751  HUG 201711150010A-Renewal of cautionary announ...   \n",
       "\n",
       "                                                 title  \\\n",
       "751  HUGE GROUP LIMITED – Renewal of cautionary ann...   \n",
       "\n",
       "                                                   url  \n",
       "751  https://www.moneyweb.co.za/mny_sens/huge-group...  "
      ]
     },
     "execution_count": 22,
     "metadata": {},
     "output_type": "execute_result"
    }
   ],
   "source": [
    "big_sens_data.sample(n=1)"
   ]
  },
  {
   "cell_type": "code",
   "execution_count": 16,
   "metadata": {},
   "outputs": [
    {
     "data": {
      "text/plain": [
       "date       datetime64[ns]\n",
       "section            object\n",
       "text               object\n",
       "title              object\n",
       "url                object\n",
       "dtype: object"
      ]
     },
     "execution_count": 16,
     "metadata": {},
     "output_type": "execute_result"
    }
   ],
   "source": [
    "big_sens_data.dtypes"
   ]
  },
  {
   "cell_type": "code",
   "execution_count": 23,
   "metadata": {},
   "outputs": [],
   "source": [
    "big_sens_data['date'] = pd.to_datetime(big_sens_data['date'], errors='ignore')"
   ]
  },
  {
   "cell_type": "code",
   "execution_count": 21,
   "metadata": {},
   "outputs": [],
   "source": [
    "big_sens_data['title'] = big_sens_data['title'].map(lambda x: x.replace('\\n',''))"
   ]
  },
  {
   "cell_type": "code",
   "execution_count": null,
   "metadata": {},
   "outputs": [],
   "source": []
  },
  {
   "cell_type": "code",
   "execution_count": 26,
   "metadata": {},
   "outputs": [],
   "source": [
    "big_sens_data.to_hdf('./data/test/big_newsdata.h5', 'sens', table=True, mode='a')"
   ]
  }
 ],
 "metadata": {
  "kernelspec": {
   "display_name": "Python 3",
   "language": "python",
   "name": "python3"
  },
  "language_info": {
   "codemirror_mode": {
    "name": "ipython",
    "version": 3
   },
   "file_extension": ".py",
   "mimetype": "text/x-python",
   "name": "python",
   "nbconvert_exporter": "python",
   "pygments_lexer": "ipython3",
   "version": "3.6.3"
  }
 },
 "nbformat": 4,
 "nbformat_minor": 2
}
