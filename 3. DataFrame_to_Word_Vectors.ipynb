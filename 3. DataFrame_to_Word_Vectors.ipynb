{
 "cells": [
  {
   "cell_type": "raw",
   "metadata": {},
   "source": [
    "---\n",
    "title: DataFrame to Word Vectors\n",
    "toc: true\n",
    "---"
   ]
  },
  {
   "cell_type": "markdown",
   "metadata": {},
   "source": [
    "# Import Libraries"
   ]
  },
  {
   "cell_type": "code",
   "execution_count": 1,
   "metadata": {},
   "outputs": [],
   "source": [
    "import pandas as pd"
   ]
  },
  {
   "cell_type": "code",
   "execution_count": 2,
   "metadata": {},
   "outputs": [],
   "source": [
    "from multiprocessing import cpu_count"
   ]
  },
  {
   "cell_type": "code",
   "execution_count": 3,
   "metadata": {},
   "outputs": [],
   "source": [
    "import string\n",
    "import os"
   ]
  },
  {
   "cell_type": "code",
   "execution_count": 4,
   "metadata": {},
   "outputs": [
    {
     "name": "stdout",
     "output_type": "stream",
     "text": [
      "CPU times: user 3.86 s, sys: 508 ms, total: 4.36 s\n",
      "Wall time: 2.66 s\n"
     ]
    }
   ],
   "source": [
    "%%time \n",
    "import spacy\n",
    "nlp = spacy.load('en')"
   ]
  },
  {
   "cell_type": "code",
   "execution_count": 5,
   "metadata": {},
   "outputs": [],
   "source": [
    "base_directory = os.path.join('.','data','test')"
   ]
  },
  {
   "cell_type": "markdown",
   "metadata": {},
   "source": [
    "Example"
   ]
  },
  {
   "cell_type": "code",
   "execution_count": 15,
   "metadata": {},
   "outputs": [
    {
     "data": {
      "text/html": [
       "<div class=\"entities\" style=\"line-height: 2.5\"><mark class=\"entity\" style=\"background: #c887fb; padding: 0.45em 0.6em; margin: 0 0.25em; line-height: 1; border-radius: 0.35em; box-decoration-break: clone; -webkit-box-decoration-break: clone\">South African<span style=\"font-size: 0.8em; font-weight: bold; line-height: 1; border-radius: 0.35em; text-transform: uppercase; vertical-align: middle; margin-left: 0.5rem\">NORP</span></mark> President <mark class=\"entity\" style=\"background: #aa9cfc; padding: 0.45em 0.6em; margin: 0 0.25em; line-height: 1; border-radius: 0.35em; box-decoration-break: clone; -webkit-box-decoration-break: clone\">Cyril Ramaphosa<span style=\"font-size: 0.8em; font-weight: bold; line-height: 1; border-radius: 0.35em; text-transform: uppercase; vertical-align: middle; margin-left: 0.5rem\">PERSON</span></mark> treaded a fine line between his ruling party’s rival factions when he named steady hands to key cabinet posts and purged some of his predecessor <mark class=\"entity\" style=\"background: #aa9cfc; padding: 0.45em 0.6em; margin: 0 0.25em; line-height: 1; border-radius: 0.35em; box-decoration-break: clone; -webkit-box-decoration-break: clone\">Jacob Zuma<span style=\"font-size: 0.8em; font-weight: bold; line-height: 1; border-radius: 0.35em; text-transform: uppercase; vertical-align: middle; margin-left: 0.5rem\">PERSON</span></mark>’s most ineffectual appointees.  While keeping a handful of <mark class=\"entity\" style=\"background: #7aecec; padding: 0.45em 0.6em; margin: 0 0.25em; line-height: 1; border-radius: 0.35em; box-decoration-break: clone; -webkit-box-decoration-break: clone\">Zuma<span style=\"font-size: 0.8em; font-weight: bold; line-height: 1; border-radius: 0.35em; text-transform: uppercase; vertical-align: middle; margin-left: 0.5rem\">ORG</span></mark> loyalists in largely minor positions, <mark class=\"entity\" style=\"background: #aa9cfc; padding: 0.45em 0.6em; margin: 0 0.25em; line-height: 1; border-radius: 0.35em; box-decoration-break: clone; -webkit-box-decoration-break: clone\">Ramaphosa<span style=\"font-size: 0.8em; font-weight: bold; line-height: 1; border-radius: 0.35em; text-transform: uppercase; vertical-align: middle; margin-left: 0.5rem\">PERSON</span></mark> brought back as finance minister <mark class=\"entity\" style=\"background: #aa9cfc; padding: 0.45em 0.6em; margin: 0 0.25em; line-height: 1; border-radius: 0.35em; box-decoration-break: clone; -webkit-box-decoration-break: clone\">Nhlanhla Nene<span style=\"font-size: 0.8em; font-weight: bold; line-height: 1; border-radius: 0.35em; text-transform: uppercase; vertical-align: middle; margin-left: 0.5rem\">PERSON</span></mark>, who <mark class=\"entity\" style=\"background: #7aecec; padding: 0.45em 0.6em; margin: 0 0.25em; line-height: 1; border-radius: 0.35em; box-decoration-break: clone; -webkit-box-decoration-break: clone\">Zuma<span style=\"font-size: 0.8em; font-weight: bold; line-height: 1; border-radius: 0.35em; text-transform: uppercase; vertical-align: middle; margin-left: 0.5rem\">ORG</span></mark> replaced in <mark class=\"entity\" style=\"background: #bfe1d9; padding: 0.45em 0.6em; margin: 0 0.25em; line-height: 1; border-radius: 0.35em; box-decoration-break: clone; -webkit-box-decoration-break: clone\">late 2015<span style=\"font-size: 0.8em; font-weight: bold; line-height: 1; border-radius: 0.35em; text-transform: uppercase; vertical-align: middle; margin-left: 0.5rem\">DATE</span></mark> in a decision that caused chaos in the markets. <mark class=\"entity\" style=\"background: #aa9cfc; padding: 0.45em 0.6em; margin: 0 0.25em; line-height: 1; border-radius: 0.35em; box-decoration-break: clone; -webkit-box-decoration-break: clone\">Pravin Gordhan<span style=\"font-size: 0.8em; font-weight: bold; line-height: 1; border-radius: 0.35em; text-transform: uppercase; vertical-align: middle; margin-left: 0.5rem\">PERSON</span></mark>, who won over investors during <mark class=\"entity\" style=\"background: #e4e7d2; padding: 0.45em 0.6em; margin: 0 0.25em; line-height: 1; border-radius: 0.35em; box-decoration-break: clone; -webkit-box-decoration-break: clone\">two<span style=\"font-size: 0.8em; font-weight: bold; line-height: 1; border-radius: 0.35em; text-transform: uppercase; vertical-align: middle; margin-left: 0.5rem\">CARDINAL</span></mark> stints in the same job before running afoul of <mark class=\"entity\" style=\"background: #7aecec; padding: 0.45em 0.6em; margin: 0 0.25em; line-height: 1; border-radius: 0.35em; box-decoration-break: clone; -webkit-box-decoration-break: clone\">Zuma<span style=\"font-size: 0.8em; font-weight: bold; line-height: 1; border-radius: 0.35em; text-transform: uppercase; vertical-align: middle; margin-left: 0.5rem\">ORG</span></mark>, will oversee the <mark class=\"entity\" style=\"background: #e4e7d2; padding: 0.45em 0.6em; margin: 0 0.25em; line-height: 1; border-radius: 0.35em; box-decoration-break: clone; -webkit-box-decoration-break: clone\">six<span style=\"font-size: 0.8em; font-weight: bold; line-height: 1; border-radius: 0.35em; text-transform: uppercase; vertical-align: middle; margin-left: 0.5rem\">CARDINAL</span></mark> of the biggest state companies that are mostly financially strapped and mired in graft allegations.</div>"
      ],
      "text/plain": [
       "<IPython.core.display.HTML object>"
      ]
     },
     "metadata": {},
     "output_type": "display_data"
    }
   ],
   "source": [
    "spacy.displacy.render(nlp('South African President Cyril Ramaphosa treaded a fine line between his ruling party’s rival factions when he named steady hands to key cabinet posts and purged some of his predecessor Jacob Zuma’s most ineffectual appointees.  While keeping a handful of Zuma loyalists in largely minor positions, Ramaphosa brought back as finance minister Nhlanhla Nene, who Zuma replaced in late 2015 in a decision that caused chaos in the markets. Pravin Gordhan, who won over investors during two stints in the same job before running afoul of Zuma, will oversee the six of the biggest state companies that are mostly financially strapped and mired in graft allegations.') , style='ent', minify=True, jupyter=True)"
   ]
  },
  {
   "cell_type": "markdown",
   "metadata": {},
   "source": [
    "# Lemmatization Pipeline"
   ]
  },
  {
   "cell_type": "code",
   "execution_count": 6,
   "metadata": {},
   "outputs": [],
   "source": [
    "data_file = os.path.join(base_directory,'sens_lines.jsonlines')"
   ]
  },
  {
   "cell_type": "code",
   "execution_count": 7,
   "metadata": {},
   "outputs": [],
   "source": [
    "#sens_sample = pd.read_hdf('./data/test/big_newsdata.h5', 'sens', mode='a')\n",
    "sens_data = pd.read_json(data_file,convert_dates=True,lines=True,chunksize=1)"
   ]
  },
  {
   "cell_type": "code",
   "execution_count": 8,
   "metadata": {},
   "outputs": [],
   "source": [
    "lemma_file = os.path.join(base_directory,'json_lines_lemmas.txt')"
   ]
  },
  {
   "cell_type": "code",
   "execution_count": 9,
   "metadata": {},
   "outputs": [],
   "source": [
    "def is_punct_helper(token):\n",
    "    \"\"\"helper function to eliminate tokens that are pure punctuation or whitespace\"\"\"\n",
    "    return token.is_punct or token.is_space or token.like_num\n",
    "\n",
    "\n",
    "def lemmatized_sentence_corpus(generator):    \n",
    "    \"\"\"generator function to use spaCy to parse reviews, lemmatize the text, and yield sentences\"\"\"\n",
    "    punc = string.digits+string.punctuation.replace(\"\",\".\")#+\"’‘\"+'“–”'\n",
    "\n",
    "    with open(lemma_file, 'w', encoding='utf_8') as f:\n",
    "        \n",
    "        for parsed_review in nlp.pipe(map(lambda x: str(x['text'].values).translate(\n",
    "            str.maketrans(punc, ' '*len(punc))),generator)\n",
    "                                      ,batch_size=10, n_threads=cpu_count(),disable=['is_stop','is_alpha','ner','tag','dep'], cleanup=True):\n",
    "\n",
    "            for sent in parsed_review.sents:\n",
    "                f.write(u' '.join([token.lemma_ for token in sent\n",
    "                                 if not is_punct_helper(token)])+'\\n')"
   ]
  },
  {
   "cell_type": "code",
   "execution_count": 10,
   "metadata": {},
   "outputs": [
    {
     "name": "stdout",
     "output_type": "stream",
     "text": [
      "CPU times: user 20min 32s, sys: 2min, total: 22min 32s\n",
      "Wall time: 12min 40s\n"
     ]
    }
   ],
   "source": [
    "%%time\n",
    "\n",
    "if os.path.exists(lemma_file):\n",
    "        print(\"A lemma file already exists. \")\n",
    "else:\n",
    "    lemmatized_sentence_corpus(sens_data)"
   ]
  },
  {
   "cell_type": "markdown",
   "metadata": {},
   "source": [
    "# Phrase Modelling\n",
    "Learning conbinations of tokens that together represent meaningful multi-word concepts.  \n",
    "  \n",
    "$\\frac{count(AB)-count_{min}}{count(a)*count(b)} * N > threashold $\n",
    "\n",
    "Where count is is the number of times a token appears in the corpus.  \n",
    "N is the total size of the corpus.  \n",
    "  \n",
    " Gensim is a library for statistical analysis of sentences.  "
   ]
  },
  {
   "cell_type": "code",
   "execution_count": 11,
   "metadata": {},
   "outputs": [
    {
     "name": "stdout",
     "output_type": "stream",
     "text": [
      "CPU times: user 693 ms, sys: 128 ms, total: 821 ms\n",
      "Wall time: 1.88 s\n"
     ]
    }
   ],
   "source": [
    "%%time\n",
    "from gensim.models import Phrases\n",
    "from gensim.models.word2vec import LineSentence"
   ]
  },
  {
   "cell_type": "markdown",
   "metadata": {},
   "source": [
    "## Unigrams"
   ]
  },
  {
   "cell_type": "code",
   "execution_count": 12,
   "metadata": {},
   "outputs": [],
   "source": [
    "unigram_sentences = LineSentence(lemma_file)"
   ]
  },
  {
   "cell_type": "code",
   "execution_count": 13,
   "metadata": {},
   "outputs": [
    {
     "name": "stdout",
     "output_type": "stream",
     "text": [
      "a decision of the enterprise chamber of the amsterdam court of appeal steinhoff international holdings n v\n",
      " \n",
      "incorporate in the netherlands registration number share code\n",
      " \n",
      "snh isin\n",
      " \n",
      "nl steinhoff decision of the enterprise chamber of the amsterdam court of appeal steinhoff international holdings n v the company\n",
      " \n",
      "and with -PRON- subsidiary\n",
      " \n",
      "the group\n",
      " \n",
      "further to the company ’s announcement of january the enterprise chamber of the amsterdam court of appeal the enterprise chamber\n",
      " \n",
      "last night issue -PRON- decision in respect of proceeding bring by om handels gmbh and mw holdings gmbh\n",
      " \n",
      "entity control by dr andreas seifert the seifert entities\n",
      " \n",
      "a former joint venture partner of the group the dutch poco proceeding\n",
      " \n",
      "background\n",
      " \n",
      "the dutch poco proceeding relate to the appropriate treatment under international financial reporting standards\n",
      " \n",
      "ifrs\n",
      " \n",
      "regard the consolidation of poco einrichtungsmarkte gmbh\n",
      " \n",
      "poco in the company ’s consolidate financial statement\n",
      " \n",
      "accounts\n",
      " \n",
      "the dutch poco proceeding follow a dispute relate to the ownership of poco which be the subject of ongoing legal proceeding in germany the german poco proceeding\n",
      " \n",
      "the company ’s accounts be prepare on the basis that the group own of poco give the company ’s position that the interest of the seifert entities in poco should be redeem due to certain action by the seifert entities consistent with this and in line with german legal requirement the payment to be make in consideration for the redemption of the seifert entities’ interest in poco be include as a payable liability in the accounts to be pay once the german poco proceeding have be finalise\n",
      " \n",
      "the dutch poco proceeding be bring by the seifert entities on the basis that give the dispute regard the company ’s assertion in the german poco proceeding the seifert entities also dispute the ifrs accounting treatment of the consolidation of poco in the accounts the seifert entities seek order from the enterprise chamber require the company to amend the accounts mainly to i deconsolidate poco and ii change the explanatory note to recognise the seifert entities’ shareholding in poco rule\n",
      " \n",
      "the enterprise chamber in -PRON- judgement have rule that the company be correct to consolidate poco as a control interest in -PRON- accounts\n",
      " \n",
      "however -PRON- have order that the company amend the accounts and provide in future financial statement where applicable as follow i the company ’s consolidation treatment of poco be change from a control interest to a control interest and ii -PRON- be record that the seifert entities hold a non control interest in poco the enterprise chamber also require the company to revise the related contingent liability explanatory note to the accounts remove reference to the payable liability to the seifert entities state that the company have consolidate poco as a control interest and that the german poco proceeding be ongoing the company be in the process of study the judgement include whether -PRON- provide ground for appeal and consider the impact of the decision on the group ’s account and will update shareholder in due course status of the german poco proceeding\n",
      " \n",
      "-PRON- should be note that whilst the judgment of the enterprise chamber have rule in relation to the group ’s accounting treatment for poco the ongoing german poco proceeding will in due course determine the parties’ respective ownership interest in poco shareholder and other investor in the company be advise to exercise caution when deal in the security of the group jse sponsor psg capital stellenbosch\n",
      " \n",
      "february date produce by the jse sens department the sens service be an information dissemination service administer by the jse limited jse’\n",
      " \n",
      "the jse do not whether expressly tacitly or implicitly represent warrant or in any way guarantee the truth accuracy or completeness of the information publish on sen the jse -PRON- officer employee and agent accept no liability for or in respect of any direct indirect incidental or consequential loss or damage of any kind or nature howsoever arise from the use of sen or the use of or reliance on\n",
      " \n",
      "msp\n",
      " \n",
      "a trading statement mas real estate inc register in the british virgin islands registration number sedol emtf\n",
      " \n",
      "b vlj sedol jse\n",
      " \n",
      "b tsd jse share code msp isin vgg m lei code t tzpgq hs q\n",
      " \n",
      "mas or the company\n",
      " \n",
      "trade statement\n",
      " \n",
      "in term of the jse listings requirements property entity be require to publish a trading statement as soon as -PRON- be satisfied that a reasonable degree of certainty exist that the distribution per share for the next reporting period will differ by at least from the distribution per share for the previous correspond reporting period accordingly shareholder be advise that mas anticipate that -PRON- interim distribution per share for the month period end december will be euro cent per share be high than the final distribution per share of euro cent for the month period to june and be high than the interim distribution per share of euro cent for the month period end december the board of mas will continue to supplement distribution from retained earning capital and other profit as -PRON- deem appropriate during forthcoming financial period as the group pursue earning accretive real estate acquisition and development the financial information on which this trading statement be base have not be review or report on by mas’ auditor the financial result for the month period end december will be publish on or about february february for further information please contact helen cullen company secretary mas real estate inc java capital jse\n",
      " \n",
      "sponsor charl brand\n",
      " \n",
      "m partners luxembourg date\n",
      " \n",
      "produce by the jse sens department the sens service be an information dissemination service administer by the jse limited jse’\n",
      " \n",
      "the jse do not whether expressly tacitly or implicitly represent warrant or in any way guarantee the truth accuracy or completeness of the information publish on sen the jse -PRON- officer employee and agent accept no liability for or in respect of any direct indirect incidental or consequential loss or damage of any kind or nature howsoever arise from the use of sen or the use of or reliance on\n",
      " \n",
      "stxemg\n",
      " \n",
      "a listing of additional satrixemg securities stxemg satrix collective investment scheme\n",
      " \n",
      "satrix msci emerge markets feeder portfolio jse code\n",
      " \n",
      "stxemg isin code\n",
      " \n",
      "zae satrixemg or stxemg’ a portfolio in the satrix collective investment scheme register as such in term of the collective investment schemes control act of listing of additional satrixemg security satrixemg have issue and list an additional security with effect from the commencement of business today at an issue price of approximately r per security follow the listing of the security there will be satrixemg security in issue february sponsor vunani corporate finance date produce by the jse sens department the sens service be an information dissemination service administer by the jse limited jse’\n",
      " \n",
      "the jse do not whether expressly tacitly or implicitly represent warrant or in any way guarantee the truth accuracy or completeness of the information publish on sen the jse -PRON- officer employee and agent accept no liability for or in respect of any direct indirect incidental or consequential loss or damage of any kind or nature howsoever arise from the use of sen or the use of or reliance on\n",
      " \n",
      "oml\n",
      " \n",
      "a form disclosure gnk plc\n",
      " \n",
      "old mutual plc isin code gb b j jse share code\n",
      " \n",
      "oml nsx share code\n",
      " \n",
      "olm issuer code\n",
      " \n",
      "olomol old mutual form\n",
      " \n",
      "public opening position disclosure\n",
      " \n",
      "deal disclosure\n",
      " \n",
      "by a person with interests in relevant securities representing\n",
      " \n",
      "or more\n",
      " \n",
      "rule of the takeover code\n",
      " \n",
      "the code\n",
      " \n",
      "key information\n",
      " \n",
      "a identity of the person whose position dealing be old mutual plc being disclose and subsidiary b owner or controller of interest and short position disclose if different from a the naming of nominee or vehicle company be insufficient c name of offeror offeree in relation to whose relevant\n",
      " \n",
      "gkn plc security this form relate use a separate form for each offeror offeree d\n",
      " \n",
      "if an exempt fund manager connect with an offeror offeree state this and specify identity of offeror offeree e date position hold deal undertake f\n",
      " \n",
      "have the discloser previously disclose or be -PRON- melrose industries plc today disclose under the code in respect of any other party to this offer\n",
      " \n",
      "position of the person\n",
      " \n",
      "make the disclosure a interests and short position in the relevant security of the offeror or offeree to which the disclosure relate follow the deal if any class of relevant security\n",
      " \n",
      "ordinary p interests short position number number relevant security own and or control derivative other than option options and agreement to purchase sell total\n",
      " \n",
      "please note that the holding include unit of adr all interest and all short position should be disclose details of any open derivative or option position or agreement to purchase or sell relevant security should be give on a supplemental form open positions\n",
      " \n",
      "b rights to subscribe for new security include directors’ and other executive option class of relevant security in relation to which subscription right exist details include nature of the right concern and relevant percentage if there be position or right to subscribe to disclose in more than class of relevant security of the offeror or offeree name in c copy table\n",
      " \n",
      "a or b\n",
      " \n",
      "as appropriate for each additional class of relevant security dealing if any by the person make the disclosure a purchases and sale class of relevant purchase sale number of security price per unit security\n",
      " \n",
      "ordinary sale gbp ordinary sale\n",
      " \n",
      "gbp b\n",
      " \n",
      "derivatives transaction other than option class of relevant product nature of deal\n",
      " \n",
      "number of price per unit security description\n",
      " \n",
      "e g opening close a reference\n",
      " \n",
      "e g\n",
      " \n",
      "cfd long short position security increase reduce a long short position c options transaction in respect of exist security i writing sell purchase or vary class of product\n",
      " \n",
      "write number of exercise type\n",
      " \n",
      "expiry option relevant description purchase security price per e g date\n",
      " \n",
      "money security\n",
      " \n",
      "e g call option selling to which unit\n",
      " \n",
      "american pay vary etc option european receive relate etc per unit ii exercising class of relevant product description number of security exercise price per unit security e g call option\n",
      " \n",
      "d other dealing include subscribe for new security class of relevant nature of deal details\n",
      " \n",
      "price per unit if security e g subscription conversion applicable\n",
      " \n",
      "the currency of all price and other monetary amount should be state where there have be dealing in more than class of relevant security of the offeror or offeree name in c copy table a b\n",
      " \n",
      "c or d as appropriate for each additional class of relevant security deal in other information\n",
      " \n",
      "a indemnity and other deal arrangement\n",
      " \n",
      "details of any indemnity or option arrangement or any agreement or understanding formal or informal relate to relevant security which may be an inducement to deal or refrain from deal enter into by the person make the disclosure and any party to the offer or any person act in concert with a party to the offer\n",
      " \n",
      "if there be no such agreement arrangement or understanding\n",
      " \n",
      "state\n",
      " \n",
      "none\n",
      " \n",
      "b agreements arrangement or understanding relate to option or derivative details of any agreement arrangement or understanding formal or informal between the person make the disclosure and any other person relate to i the voting right of any relevant security under any option or ii the voting right or future acquisition or disposal of any relevant security to which any derivative be reference if there be no such agreement arrangement or understanding\n",
      " \n",
      "state none c\n",
      " \n",
      "attachments be a supplemental form open positions attach\n",
      " \n",
      "no date of disclosure\n",
      " \n",
      "contact name\n",
      " \n",
      "vimbai phiri telephone number\n",
      " \n",
      "public disclosure under rule of the code must be make to a regulatory information service and must also be email to the takeover panel at monitor disclosure org uk\n",
      " \n",
      "the panel ’s market surveillance unit be available for consultation in relation to the code ’s deal disclosure requirement on the code can be view on the panel ’s website at www thetakeoverpanel org uk sponsor merrill lynch south africa pty ltd\n",
      " \n",
      "joint sponsor nedbank corporate and investment banking date produce by the jse sens department the sens service be an information dissemination service administer by the jse limited jse’\n",
      " \n",
      "the jse do not whether expressly tacitly or implicitly represent warrant or in any way guarantee the truth accuracy or completeness of the information publish on sen the jse -PRON- officer employee and agent accept no liability for or in respect of any direct indirect incidental or consequential loss or damage of any kind or nature howsoever arise from the use of sen or the use of or reliance on\n",
      " \n",
      "sap\n",
      " \n",
      "a first quarter result for the period end december sappi registration number jse code sap isin code zae issuer code savvi invest in growth\n",
      " \n",
      "first quarter result for the period end december st quarter result sappi be a global diversify woodfibre company focus on provide dissolve wood pulp speciality and packaging paper print and write paper as well as product in adjacent field include nanocellulose and lignosulphonate to -PRON- direct and indirect customer base across more than country -PRON- dissolve wood pulp specialise cellulose product be use worldwide by converter to create viscose fibre for fashionable clothing and textile pharmaceutical product as well as a wide range of consumer and household product quality speciality and packaging paper be use in the manufacture of such product as soup sachet luxury carry bag cosmetic and confectionery packaging box for agricultural product for export tissue wad for household tissue product and cast release paper use by supplier to the fashion textile automobile and household industry -PRON- market leading range of print and writing paper be use by printer in the production of book brochure magazine catalogue direct mail and many other print application the wood and pulp need for -PRON- product be either produce within sappi or buy from accredit supplier across the group sappi be close to pulp neutral’ mean that -PRON- sell almost as much pulp as -PRON- buy sale by source north america\n",
      " \n",
      "southern africa\n",
      " \n",
      "europe sales by destination north america southern africa\n",
      " \n",
      "europe asia and other sale by product coated paper\n",
      " \n",
      "uncoated paper speciality paper commodity paper\n",
      " \n",
      "dissolve wood pulp other net operating asset north america\n",
      " \n",
      "southern africa europe\n",
      " \n",
      "for the period end december as at december highlights for the quarter ebitda exclude special item us q like for like us profit for the period us q\n",
      " \n",
      "us eps exclude special item us cent q us cent\n",
      " \n",
      "net debt us q\n",
      " \n",
      "us quarter end dec dec\n",
      " \n",
      "sept\n",
      " \n",
      "key figure us sale operate profit exclude special item\n",
      " \n",
      "special item gain loss ebitda exclude special item profit for the period basic earning per share us cent eps exclude special item us cent\n",
      " \n",
      "net debt key ratio operating profit exclude special item to sale operating profit exclude special item to capital employ roce ebitda exclude special item to sale net debt to ebitda exclude special item interest cover net asset value per share us cent refer to note to the group result for the reconciliation of ebitda exclude special item and operating profit exclude special item to segment operating profit and profit for the period\n",
      " \n",
      "refer to note to the group result for detail on special item refer to supplemental information for the definition of the term commentary on the quarter operate performance in the quarter be in line with expectation and the group generate ebitda exclude special item of us on a like for like basis\n",
      " \n",
      "this be comparable to the us generate last year before the addition of us relate to an additional accounting week profit for the comparative period decrease from us to us principally as a result of the extra week last year and a us non cash income statement charge follow the lowering of the corporate income tax rate in the united states and -PRON- impact on the deferred tax asset demand for dissolve wood pulp dwp remain strong despite viscose staple fibre vsf price soften in the last week of the quarter dwp spot price be stable throughout the quarter support by high price for compete textile and strong demand for kraft pulp ebitda margin remain healthy at growth in demand for speciality and packaging paper continue to be healthy across all major product segment and ebitda margin be maintain at sale volume be constrain by -PRON- current production capacity\n",
      " \n",
      "the european business experience a good quarter despite the impact of a strong euro on export sale price and continued paper pulp cost pressure further sell price increase be implement in both local and export market during the quarter to counteract these pressure the market dynamic for graphic paper improve particularly export outages for capital project and annual maintenance as well as low coated paper production and dissolve wood pulp sale price lead to a decline in performance for the north american business the positive impact from the closure of compete coat woodfree mill during the quarter begin to be realise once remain inventory have be sell into the market excellent packaging and office paper sale volume in the south african business be unable to offset the impact of low contract dissolve wood pulp pricing as well as the negative impact of a major storm in durban south africa which affect saiccor production and shipment from the port earning per share exclude special item be us cent a decline from the us cent generate in the equivalent quarter last year special item and the once off tax rate adjustment result in a loss of us cash flow and debt net cash utilise for the quarter be us compare to us cash generate in the equivalent quarter last year a us increase in capital expenditure relate to the paper machine conversion project which contribute to the decline in net cash generation an energy tax refund of us be receive in the quarter contrast with tax payment of us in the prior year net debt of us be up marginally from us at the end of the equivalent quarter last year as a result of the increase capital expenditure over the past year as well as the strong euro which impact the translation of euro debt into us dollar for reporting purpose\n",
      " \n",
      "liquidity comprise cash on hand of us and us available from the undrawn commit revolve credit facility in southern africa and europe operate review for the quarter europe quarter end € dec sept jun mar\n",
      " \n",
      "dec sale operating profit exclude special item operate profit exclude special item to sale ebitda exclude special item ebitda exclude special item to sale ronoa pa the european operating performance be solid with strong export market and the successful implementation of sell price increase for graphic paper offset the ongoing rise in pulp cost within europe the market for graphic paper stabilise\n",
      " \n",
      "overall sale volume be low than the equivalent quarter last year however this be almost solely due to the additional accounting week in the prior year the speciality paper business experience like for like sale growth of normalise to a week quarter however the strong euro impact us dollar base export negatively and lower overall net sale price variable cost be high than in both comparative period paper pulp and latex price continue to rise throughout the quarter fix cost be high than a year ago due to an increase headcount post the rockwell acquisition and annual personnel cost increase\n",
      " \n",
      "north america quarter end us dec sept jun mar\n",
      " \n",
      "dec sale operating profit loss exclude special item operating profit loss exclude special item to sale ebitda exclude special item ebitda exclude special item to sale ronoa pa\n",
      " \n",
      "the performance of the north american business be impact negatively by low sale volume as a result of production challenge at the paper mill project work at the somerset mill for the new woodyard as well as the first phase of the pm conversion to paperboard together with a new headbox for pm at cloquet mill\n",
      " \n",
      "the us coat paper market change notably during the quarter as approximately of compete coat free sheet capacity exit the market with the closure of mill low paper inventory and contractual price protection for major customer limit the positive impact from price increase and high operating rate during the quarter the outlook for the come quarter have improve as operating rate rise and further price increase have be announce the positive impact of increase dissolve wood pulp sale volume be negate by low average sell price and high purchase paper pulp cost as the cloquet mill raise dissolve wood pulp production result in additional paper pulp purchase for the paper machine both the packaging and release paper business experience good year on year volume growth although both product experience low average pricing primarily due to product and customer mix variable cost be negatively impact by the various capital project during the quarter as well as high purchase paper pulp and chemical price\n",
      " \n",
      "the ongoing initiative to improve efficiency and low purchasing cost help offset these somewhat southern africa quarter end zar dec sept jun mar\n",
      " \n",
      "dec sale operating profit exclude special item operate profit exclude special item to sale ebitda exclude special item ebitda exclude special item to sale ronoa pa improved year on year sale volume across all major product category be not enough to offset low us dollar dissolve wood pulp price the strong rand us dollar exchange rate and the impact of the storm damage in the durban area on logistic and saiccor mill production dissolve wood pulp sale volume be great than the equivalent quarter last year but low than those of the prior quarter due to the logistical challenge in the durban port as mention above low average us dollar price couple with a strong rand us dollar exchange rate lead to average sale price that be below those of a year ago improved packaging sale volume drive by strong citrus demand and high pricing result in a strong performance from the paper business office paper and newsprint achieve sale volume growth and high pricing variable cost remain well control compare to the prior year with increase energy cost be offset by low fibre usage outlook demand for dwp remain good and -PRON- realise us dollar sale price will improve in the second quarter as -PRON- benefit from the high average chinese market price while vsf price currently remain under pressure recent rise in compete textile price such as cotton and polyester should provide support to the vsf market which in turn should support dwp pricing in upcoming quarter\n",
      " \n",
      "in light of increase demand and positive outlook for dwp -PRON- be advance plan for the possible expansion of saiccor mill by ton per annum graphic paper operating rate remain healthy in europe as export demand growth help to offset more moderate demand decline in western europe coated paper price increase over the past few quarter have allow margin to remain relatively stable despite continued input cost pressure from purchase paper pulp\n",
      " \n",
      "in the united states -PRON- will be take extend downtime on pm at somerset mill in order to complete the conversion project at the mill\n",
      " \n",
      "this be expect to have a us negative impact on ebitda during -PRON- second and third quarter coated paper price increase implement over the past month will start to be fully realise in the second quarter and the high dwp price refer to earlier will allow -PRON- to offset the aforementioned impact speciality and packaging paper demand continue to grow as the push to encourage the use of paper base packaging over plastic gather momentum -PRON- acquisition of rockwell solutions in and the announced acquisition of cham paper which be expect to be complete at the end of february position -PRON- well for growth in this market the conversion of the paper machine at maastricht and somerset mills will be complete in the second and third quarter respectively and will further add to -PRON- coated packaging capability capital expenditure in be expect to be approximately us as -PRON- complete the conversion at maastricht and somerset mills the saiccor ngodwana and cloquet mills dwp debottleneck project and start the upgrade of the saiccor mill woodyard these project be focus on high margin growth segment include dissolve wood pulp and speciality packaging\n",
      " \n",
      "this will position -PRON- for strong profitability from onwards\n",
      " \n",
      "the group ’s second quarter operate performance be expect to be slightly below that of the prior year as the impact of the strong rand and low comparative us dollar dwp price negatively impact the south african operation on behalf of the board s r binnie director g t pearce director february forward look statement\n",
      " \n",
      "certain statement in this release that be neither report financial result nor other historical information be forward look statement include but not limit to statement that be prediction of or indicate future earning saving synergy event trend plan or objective\n",
      " \n",
      "the word believe’ anticipate’ expect' intend’ estimate’\n",
      " \n",
      "plan’ assume’ positioned’ will’ may’\n",
      " \n",
      "should’ risk’ and other similar expression which be prediction of or indicate future event and future trend and which do not relate to historical matter and may be use to identify forward look statement\n",
      " \n",
      "-PRON- should not rely on forward look statement because -PRON- involve know and unknown risk uncertainty and other factor which be in some case beyond -PRON- control and may because -PRON- actual result performance or achievement to differ materially from anticipate future result performance or achievement express or imply by such forward look statement and from past result performance or achievement certain factor that may because such difference include but be not limit to the highly cyclical nature of the pulp and paper industry and the factor that contribute to such cyclicality such as level of demand production capacity production input cost include raw material energy and employee cost and pricing the impact on -PRON- business of a global economic downturn unanticipated production disruption include as a result of planned or unexpected power outage change in environmental tax and other law and regulation adverse change in the market for -PRON- product the emergence of new technology and change in consumer trend include increase preference for digital medium consequence of -PRON- leverage include as a result of adverse change in credit market that affect -PRON- ability to raise capital when need adverse change in the political situation and economy in the country in which -PRON- operate or the effect of governmental effort to address present or future economic or social problem the impact of restructuring investment acquisition disposition and other strategic initiative include relate financing any delay unexpected cost or other problem experience in connection with disposition or with integrate acquisition or implement restructuring and other strategic initiative and achieve expect saving and synergy and currency fluctuation\n",
      " \n",
      "-PRON- undertake no obligation to publicly update or revise any of these forward look statement whether to reflect new information or future event or circumstance or otherwise condensed group income statement quarter end us note\n",
      " \n",
      "dec dec sales cost of sale gross profit\n",
      " \n",
      "selling general and administrative expense other operating expense\n",
      " \n",
      "share of profit from equity investment operating profit net finance cost net interest expense net foreign exchange gain profit before taxation taxation profit for the period basic earning per share us cent\n",
      " \n",
      "weighted average number of share in issue million diluted earning per share us cent\n",
      " \n",
      "weighted average number of share on fully dilute basis million condensed group statement of comprehensive income quarter end us dec dec profit for the period other comprehensive income loss net of tax item that will not be reclassify subsequently to profit or loss\n",
      " \n",
      "tax effect result from change in tax rate\n",
      " \n",
      "item that may or be reclassify subsequently to profit or loss exchange difference on translation of foreign operation movements in hedge reserve tax effect of above item total comprehensive income for the period\n",
      " \n",
      "condensed group balance sheet audited us note\n",
      " \n",
      "dec sept assets non current asset property plant and equipment plantation\n",
      " \n",
      "deferred tax asset other non current asset\n",
      " \n",
      "current asset inventories trade and other receivables derivative financial instrument taxation receivable cash and cash equivalent total asset equity and liabiliti equity\n",
      " \n",
      "ordinary shareholders’ interest non current liability\n",
      " \n",
      "interest bear borrowing\n",
      " \n",
      "deferred tax liability\n",
      " \n",
      "other non current liability\n",
      " \n",
      "current liability\n",
      " \n",
      "interest bearing borrowing\n",
      " \n",
      "trade and other payable\n",
      " \n",
      "provisions derivative financial instrument taxation payable shareholder for dividend total equity and liability number of share in issue at balance sheet date million\n",
      " \n",
      "condensed group statement of cash flow quarter end us dec dec profit for the period adjustment for depreciation felling and amortisation taxation net finance cost defined post employment benefit pay plantation fair value adjustment\n",
      " \n",
      "other non cash item cash generate from operation movement in work capital net finance cost pay taxation refund pay cash generate from operate activity cash utilise in invest activity\n",
      " \n",
      "capital expenditure proceeds on disposal of asset\n",
      " \n",
      "other movement net cash utilise generate\n",
      " \n",
      "cash effect of financing activity proceed from interest bear borrowing\n",
      " \n",
      "repayment of interest bearing borrowing net movement in cash and cash equivalent cash and cash equivalent at beginning of period translation effect cash and cash equivalent at end of period condensed group statement of change in equity quarter end us dec\n",
      " \n",
      "dec balance beginning of period total comprehensive income for the period shareholders for dividend transfers from the share purchase trust transfers of vested share option\n",
      " \n",
      "share base payment reserve balance end of period note to the condensed group result basis of preparation\n",
      " \n",
      "the condense consolidated financial statement be prepare in accordance with the requirement of the jse limited listings requirements for interim report and the requirement of the companies act of south africa\n",
      " \n",
      "the listings requirements require interim report to be prepare in accordance with the framework concept and the measurement and recognition requirement of international financial reporting standards ifrs and the saica financial reporting guides as issue by the accounting practices committee and financial pronouncements as issue by financial reporting standards council and to also as a minimum contain the information require by ias\n",
      " \n",
      "interim financial reporting\n",
      " \n",
      "the accounting policy apply in the preparation of the condense consolidated financial statement be in term of ifrs and be consistent with those apply in the previous consolidated annual financial statement the preparation of these condense consolidated financial statement be supervise by the chief financial officer g t pearce ca sa\n",
      " \n",
      "the result be unaudited segment information the group ’s reportable segment comprise the geographic region of north america europe and southern africa and have remain unchanged from the prior year\n",
      " \n",
      "the group have however change the financial information by major product category as review by the chief operating decision maker during the quarter end december\n",
      " \n",
      "accordingly the group have restate the financial information present by major product category for the quarter end december quarter end dec dec\n",
      " \n",
      "'s\n",
      " \n",
      "metric ton\n",
      " \n",
      "metric ton sale volume north america\n",
      " \n",
      "europe\n",
      " \n",
      "southern africa pulp and paper\n",
      " \n",
      "forestry total\n",
      " \n",
      "which consist of specialised cellulose specialities and packaging paper\n",
      " \n",
      "printing and writing paper forestry quarter end us dec dec\n",
      " \n",
      "sales north america\n",
      " \n",
      "europe\n",
      " \n",
      "southern africa pulp and paper\n",
      " \n",
      "forestry total\n",
      " \n",
      "which consist of specialised cellulose specialities and packaging paper\n",
      " \n",
      "printing and writing paper forestry operating profit loss exclude special item north america\n",
      " \n",
      "europe southern africa unallocat and elimination total\n",
      " \n",
      "which consist of specialised cellulose specialities and packaging paper printing and writing paper unallocated and elimination special item gain loss north america europe southern africa\n",
      " \n",
      "unallocated and elimination\n",
      " \n",
      "total\n",
      " \n",
      "segment operating profit loss north america\n",
      " \n",
      "europe southern africa\n",
      " \n",
      "unallocated and elimination total include the group ’s treasury operation and -PRON- insurance captive quarter end us dec\n",
      " \n",
      "dec ebitda exclude special item north america\n",
      " \n",
      "europe southern africa\n",
      " \n",
      "unallocat and elimination\n",
      " \n",
      "total\n",
      " \n",
      "which consist of specialised cellulose specialities and packaging paper printing and writing paper unallocated and elimination reconciliation of ebitda exclude special item and operating profit exclude special item to segment operating profit and profit for the period special item cover those item which management believe be material by nature or amount to the operating result and require separate disclosure ebitda exclude special item depreciation and amortisation operating profit exclude special item\n",
      " \n",
      "special item gain loss\n",
      " \n",
      "plantation price fair value adjustment fire flood storm and other event\n",
      " \n",
      "segment operating profit\n",
      " \n",
      "net finance cost profit before taxation taxation profit for the period\n",
      " \n",
      "include the group ’s treasury operation and -PRON- insurance captive quarter end us dec\n",
      " \n",
      "dec\n",
      " \n",
      "segment asset north america\n",
      " \n",
      "europe southern africa\n",
      " \n",
      "unallocated and elimination total reconciliation of segment asset to total asset segment asset\n",
      " \n",
      "deferred taxation cash and cash equivalent trade and other payable\n",
      " \n",
      "provisions derivative financial instrument taxation payable shareholders for dividend total asset\n",
      " \n",
      "include the group ’s treasury operation and -PRON- insurance captive operating profit quarter end us dec\n",
      " \n",
      "dec\n",
      " \n",
      "include in operating profit be the follow item depreciation and amortisation fair value adjustment on plantation include in cost of sale change in volume felling growth plantation price fair value adjustment earning per share quarter end us dec\n",
      " \n",
      "dec\n",
      " \n",
      "basic earning per share us cent\n",
      " \n",
      "headline earning per share us cent\n",
      " \n",
      "eps exclude special item us cent\n",
      " \n",
      "weighted average number of share in issue million diluted earning per share us cent\n",
      " \n",
      "diluted headline earning per share us cent\n",
      " \n",
      "weighted average number of share on fully dilute basis million calculation of headline earning profit for the period headline earning calculation of earning exclude special item profit for the period special item after tax\n",
      " \n",
      "special item tax effect\n",
      " \n",
      "tax special item\n",
      " \n",
      "earning exclude special item plantations plantations be state at fair value less estimate cost to sell at the harvesting stage in arrive at plantation fair value the key assumption be estimate price less cost of delivery discount rate pre tax weighted average cost of capital volume and growth estimation expect future price trend and recent market transaction involve comparable plantation be also consider in estimate fair value mature timber that be expect to be fell within month from the end of the reporting period be value use unadjusted current market price immature timber and mature timber that be to be fell in more than month from the reporting date be value use a quarter roll historical average price which take the length of the growth cycle of a plantation into account be consider reasonable the fair value of plantation be a level measure in term of the fair value measurement hierarchy as establish by ifrs fair value measurement quarter end audited us dec sept fair value of plantation at beginning of year gain arise from growth\n",
      " \n",
      "fire flood storm and other event\n",
      " \n",
      "in field inventory\n",
      " \n",
      "gain arise from fair value price change harvesting agriculture produce felling\n",
      " \n",
      "translation difference fair value of plantation at end of period\n",
      " \n",
      "financial instrument\n",
      " \n",
      "the group ’s financial instrument that be measure at fair value on a recur basis consist of derivative financial instrument available for sale financial asset and a contingent consideration liability\n",
      " \n",
      "these have be categorise in term of the fair value measurement hierarchy as establish by ifrs fair value measurement per the table below fair value fair value\n",
      " \n",
      "audited us hierarchy\n",
      " \n",
      "dec sept investment fund\n",
      " \n",
      "level derivative financial asset\n",
      " \n",
      "level derivative financial liability\n",
      " \n",
      "level contingent consideration liability\n",
      " \n",
      "level\n",
      " \n",
      "the fair value of the financial instrument be equal to -PRON- carrying value include in other non current asset\n",
      " \n",
      "include in other non current liability and trade and other payable\n",
      " \n",
      "there have be no transfer of financial asset or financial liability between the category of the fair value hierarchy the fair value of all external over the counter derivative be calculate base on the discount rate adjustment technique the discount rate use be derive from observable rate of return for comparable asset or liability trade in the market the credit risk of the external counterparty be incorporate into the calculation of fair value of financial asset and own credit risk be incorporate in the measurement of financial liability the change in fair value be therefore impact by the movement of the interest rate curve by the volatility of the applied credit spread and by any change to the credit profile of the involved party the contingent consideration be base on a multiple of target future earning of which a weighted average outcome have be project\n",
      " \n",
      "there be no financial asset and liability that have be remeasur to fair value on a non recur basis\n",
      " \n",
      "the carry amount of other financial instrument which include cash and cash equivalent account receivable certain investment account payable and current interest bear borrowing approximate -PRON- fair value capital commitment quarter end audited us dec sept contract approve but not contract contingent liability other contingent liability material balance sheet movement since the financial year end the zar and euro have strengthen by approximately and respectively to the us dollar the group ’s presentation currency result in a similar increase of the group ’s asset and liability hold in the aforementioned functional currency on translation to the presentation currency deferred tax asset there be reduction in the corporate tax rate in -PRON- north america operation result in a decrease of us in -PRON- deferred tax asset balance of which us be record through the income statement and us through other comprehensive income related party\n",
      " \n",
      "there have be no material change by nature or amount in transaction with related party since the financial year end\n",
      " \n"
     ]
    }
   ],
   "source": [
    "import itertools\n",
    "for unigram_sentence in itertools.islice(unigram_sentences, 1, 240):\n",
    "    print(u' '.join(unigram_sentence))\n",
    "    print(\" \")"
   ]
  },
  {
   "cell_type": "markdown",
   "metadata": {},
   "source": [
    "## Bigrams"
   ]
  },
  {
   "cell_type": "code",
   "execution_count": 16,
   "metadata": {},
   "outputs": [],
   "source": [
    "bigram_file = os.path.join(base_directory,'bigram_file.txt')"
   ]
  },
  {
   "cell_type": "code",
   "execution_count": 17,
   "metadata": {},
   "outputs": [
    {
     "name": "stdout",
     "output_type": "stream",
     "text": [
      "CPU times: user 13.2 s, sys: 154 ms, total: 13.4 s\n",
      "Wall time: 13.4 s\n"
     ]
    }
   ],
   "source": [
    "%%time\n",
    "\n",
    "if os.path.exists(bigram_file):\n",
    "        print(\"A bigram file already exists. \")\n",
    "else:\n",
    "    bigram_model = Phrases(unigram_sentences)\n",
    "\n",
    "    bigram_model.save(bigram_file)"
   ]
  },
  {
   "cell_type": "code",
   "execution_count": 18,
   "metadata": {},
   "outputs": [],
   "source": [
    "bigram_sentences_filepath = os.path.join(base_directory,\n",
    "                                         'bigram_sentences_all.txt')"
   ]
  },
  {
   "cell_type": "code",
   "execution_count": 21,
   "metadata": {},
   "outputs": [
    {
     "name": "stderr",
     "output_type": "stream",
     "text": [
      "/home/marcussky/anaconda3/envs/indigo/lib/python3.6/site-packages/gensim/models/phrases.py:486: UserWarning: For a faster implementation, use the gensim.models.phrases.Phraser class\n",
      "  warnings.warn(\"For a faster implementation, use the gensim.models.phrases.Phraser class\")\n"
     ]
    },
    {
     "name": "stdout",
     "output_type": "stream",
     "text": [
      "CPU times: user 32.2 s, sys: 169 ms, total: 32.4 s\n",
      "Wall time: 32.4 s\n"
     ]
    }
   ],
   "source": [
    "%%time\n",
    "if os.path.exists(bigram_sentences_filepath):\n",
    "        print(\"A bigram file already exists. \")\n",
    "else:\n",
    "    with open(bigram_sentences_filepath, 'w', encoding='utf_8') as f:   \n",
    "        for unigram_sentence in unigram_sentences:\n",
    "            bigram_sentence = u' '.join(bigram_model[unigram_sentence])\n",
    "            f.write(bigram_sentence + '\\n')"
   ]
  },
  {
   "cell_type": "code",
   "execution_count": 24,
   "metadata": {},
   "outputs": [],
   "source": [
    "bigram_sentences = LineSentence(bigram_sentences_filepath)"
   ]
  },
  {
   "cell_type": "code",
   "execution_count": 25,
   "metadata": {},
   "outputs": [
    {
     "name": "stdout",
     "output_type": "stream",
     "text": [
      "level derivative financial asset\n",
      "\n",
      "level derivative financial liability\n",
      "\n",
      "level contingent_consideration liability\n",
      "\n",
      "level\n",
      "\n",
      "the fair_value of the financial instrument be equal to -PRON- carrying value include in other non_current asset\n",
      "\n",
      "include in other non_current liability and trade and other payable\n",
      "\n",
      "there have be no transfer of financial asset or financial liability between the category of the fair_value hierarchy the fair_value of all external over the counter derivative be calculate base on the discount_rate adjustment technique the discount_rate use be derive from observable rate of return for comparable asset or liability trade in the market the credit_risk of the external counterparty be incorporate into the calculation of fair_value of financial asset and own credit_risk be incorporate in the measurement of financial liability the change in fair_value be therefore impact by the movement of the interest rate curve by the volatility of the applied credit_spread and by any change to the credit profile of the involved party the contingent_consideration be base on a multiple of target future earning of which a weighted_average outcome have be project\n",
      "\n",
      "there be no financial asset and liability that have be remeasur to fair_value on a non_recur basis\n",
      "\n",
      "the carry amount of other financial instrument which include cash and cash_equivalent account receivable certain investment account payable and current interest_bear borrowing approximate -PRON- fair_value capital commitment quarter end audited us dec sept contract approve but not contract contingent_liability other contingent_liability material balance_sheet movement since the financial year end the zar and euro have strengthen by approximately and respectively to the us_dollar the group ’s presentation_currency result in a similar increase of the group ’s asset and liability hold in the aforementioned functional_currency on translation to the presentation_currency deferred_tax asset there be reduction in the corporate tax rate in -PRON- north_america operation result in a decrease of us in -PRON- deferred_tax asset balance of which us be record through the income statement and us through other_comprehensive income related_party\n",
      "\n",
      "there have be no material change by nature or amount in transaction with related_party since the financial year end\n",
      "\n"
     ]
    }
   ],
   "source": [
    "for bigram_sentence in itertools.islice(bigram_sentences, 230, 240):\n",
    "    print(u' '.join(bigram_sentence))\n",
    "    print(u'')\n",
    "\n"
   ]
  },
  {
   "cell_type": "markdown",
   "metadata": {},
   "source": [
    "## Trigrams"
   ]
  },
  {
   "cell_type": "code",
   "execution_count": 28,
   "metadata": {},
   "outputs": [],
   "source": [
    "trigram_model_filepath = os.path.join(base_directory,\n",
    "                                      'trigram_model_all')"
   ]
  },
  {
   "cell_type": "code",
   "execution_count": 29,
   "metadata": {},
   "outputs": [
    {
     "name": "stdout",
     "output_type": "stream",
     "text": [
      "CPU times: user 12.4 s, sys: 123 ms, total: 12.5 s\n",
      "Wall time: 12.5 s\n"
     ]
    }
   ],
   "source": [
    "%%time\n",
    "\n",
    "# this is a bit time consuming - make the if statement True\n",
    "# if you want to execute modeling yourself.\n",
    "if os.path.exists(trigram_model_filepath):\n",
    "        print(\"A trigram model already exists. \")\n",
    "else:\n",
    "    trigram_model = Phrases(bigram_sentences)\n",
    "\n",
    "    trigram_model.save(trigram_model_filepath)"
   ]
  },
  {
   "cell_type": "code",
   "execution_count": 30,
   "metadata": {},
   "outputs": [],
   "source": [
    "# load the finished model from disk\n",
    "trigram_model = Phrases.load(trigram_model_filepath)"
   ]
  },
  {
   "cell_type": "code",
   "execution_count": 32,
   "metadata": {},
   "outputs": [],
   "source": [
    "trigram_sentences_filepath = os.path.join(base_directory,\n",
    "                                          'trigram_sentences_all.txt')"
   ]
  },
  {
   "cell_type": "code",
   "execution_count": 34,
   "metadata": {},
   "outputs": [
    {
     "name": "stderr",
     "output_type": "stream",
     "text": [
      "/home/marcussky/anaconda3/envs/indigo/lib/python3.6/site-packages/gensim/models/phrases.py:486: UserWarning: For a faster implementation, use the gensim.models.phrases.Phraser class\n",
      "  warnings.warn(\"For a faster implementation, use the gensim.models.phrases.Phraser class\")\n"
     ]
    },
    {
     "name": "stdout",
     "output_type": "stream",
     "text": [
      "CPU times: user 29.3 s, sys: 96.1 ms, total: 29.4 s\n",
      "Wall time: 29.4 s\n"
     ]
    }
   ],
   "source": [
    "%%time\n",
    "\n",
    "if os.path.exists(trigram_sentences_filepath):\n",
    "        print(\"A trigram model already exists. \")\n",
    "else:\n",
    "    with open(trigram_sentences_filepath, 'w', encoding='utf_8') as f:\n",
    "        for bigram_sentence in bigram_sentences:\n",
    "            trigram_sentence = u' '.join(trigram_model[bigram_sentence])\n",
    "            f.write(trigram_sentence + '\\n')"
   ]
  },
  {
   "cell_type": "code",
   "execution_count": 35,
   "metadata": {},
   "outputs": [],
   "source": [
    "trigram_sentences = LineSentence(trigram_sentences_filepath)"
   ]
  },
  {
   "cell_type": "code",
   "execution_count": 36,
   "metadata": {},
   "outputs": [
    {
     "name": "stdout",
     "output_type": "stream",
     "text": [
      "level derivative financial asset\n",
      "\n",
      "level derivative financial liability\n",
      "\n",
      "level contingent_consideration liability\n",
      "\n",
      "level\n",
      "\n",
      "the fair_value of the financial_instrument be equal to -PRON- carrying_value include in other non_current_asset\n",
      "\n",
      "include in other non_current_liability and trade and other_payable\n",
      "\n",
      "there have be no transfer of financial asset or financial liability between the category of the fair_value_hierarchy the fair_value of all external over the counter derivative be calculate base on the discount_rate adjustment technique the discount_rate use be derive_from observable rate of return for comparable asset or liability trade in the market the credit_risk of the external counterparty be incorporate into the calculation of fair_value of financial asset and own credit_risk be incorporate in the measurement of financial liability the change in fair_value be therefore impact by the movement of the interest rate_curve by the volatility of the applied credit_spread and by any change to the credit profile of the involved party the contingent_consideration be base on a multiple of target future earning of which a weighted_average outcome have be project\n",
      "\n",
      "there be no financial asset and liability that have be remeasur to fair_value on a non_recur basis\n",
      "\n",
      "the carry_amount of other financial_instrument which include cash and cash_equivalent account_receivable certain investment account payable and current interest_bear_borrowing approximate -PRON- fair_value capital commitment quarter_end audited us dec_sept contract approve but not contract contingent_liability other contingent_liability material balance_sheet movement since the financial year_end the zar and euro have strengthen by approximately and respectively to the us_dollar the group ’s presentation_currency result in a similar increase of the group ’s asset and liability hold in the aforementioned functional_currency on translation to the presentation_currency deferred_tax_asset there be reduction in the corporate tax rate in -PRON- north_america operation result in a decrease of us in -PRON- deferred_tax_asset balance of which us be record through the income statement and us through other_comprehensive_income related_party\n",
      "\n",
      "there have be no material change by nature or amount in transaction with related_party since the financial year_end\n",
      "\n"
     ]
    }
   ],
   "source": [
    "for trigram_sentence in itertools.islice(trigram_sentences, 230, 240):\n",
    "    print(u' '.join(trigram_sentence))\n",
    "    print(u'')"
   ]
  },
  {
   "cell_type": "markdown",
   "metadata": {},
   "source": [
    "## LDE"
   ]
  },
  {
   "cell_type": "code",
   "execution_count": 37,
   "metadata": {},
   "outputs": [
    {
     "name": "stdout",
     "output_type": "stream",
     "text": [
      "Collecting pyldavis\n",
      "  Downloading pyLDAvis-2.1.1.tar.gz (1.6MB)\n",
      "\u001b[K    100% |████████████████████████████████| 1.6MB 429kB/s \n",
      "\u001b[?25hRequirement already satisfied: wheel>=0.23.0 in /home/marcussky/anaconda3/envs/indigo/lib/python3.6/site-packages (from pyldavis)\n",
      "Requirement already satisfied: numpy>=1.9.2 in /home/marcussky/anaconda3/envs/indigo/lib/python3.6/site-packages (from pyldavis)\n",
      "Requirement already satisfied: scipy>=0.18.0 in /home/marcussky/anaconda3/envs/indigo/lib/python3.6/site-packages (from pyldavis)\n",
      "Requirement already satisfied: pandas>=0.17.0 in /home/marcussky/anaconda3/envs/indigo/lib/python3.6/site-packages (from pyldavis)\n",
      "Collecting joblib>=0.8.4 (from pyldavis)\n",
      "  Downloading joblib-0.11-py2.py3-none-any.whl (176kB)\n",
      "\u001b[K    100% |████████████████████████████████| 184kB 1.1MB/s \n",
      "\u001b[?25hRequirement already satisfied: jinja2>=2.7.2 in /home/marcussky/anaconda3/envs/indigo/lib/python3.6/site-packages (from pyldavis)\n",
      "Requirement already satisfied: numexpr in /home/marcussky/anaconda3/envs/indigo/lib/python3.6/site-packages (from pyldavis)\n",
      "Collecting pytest (from pyldavis)\n",
      "  Downloading pytest-3.4.1-py2.py3-none-any.whl (188kB)\n",
      "\u001b[K    100% |████████████████████████████████| 194kB 1.2MB/s \n",
      "\u001b[?25hRequirement already satisfied: future in /home/marcussky/anaconda3/envs/indigo/lib/python3.6/site-packages (from pyldavis)\n",
      "Collecting funcy (from pyldavis)\n",
      "  Downloading funcy-1.10.1.tar.gz\n",
      "Requirement already satisfied: python-dateutil>=2 in /home/marcussky/.local/lib/python3.6/site-packages (from pandas>=0.17.0->pyldavis)\n",
      "Requirement already satisfied: pytz>=2011k in /home/marcussky/anaconda3/envs/indigo/lib/python3.6/site-packages (from pandas>=0.17.0->pyldavis)\n",
      "Requirement already satisfied: MarkupSafe>=0.23 in /home/marcussky/anaconda3/envs/indigo/lib/python3.6/site-packages (from jinja2>=2.7.2->pyldavis)\n",
      "Requirement already satisfied: setuptools in /home/marcussky/.local/lib/python3.6/site-packages (from pytest->pyldavis)\n",
      "Requirement already satisfied: attrs>=17.2.0 in /home/marcussky/anaconda3/envs/indigo/lib/python3.6/site-packages (from pytest->pyldavis)\n",
      "Collecting py>=1.5.0 (from pytest->pyldavis)\n",
      "  Using cached py-1.5.2-py2.py3-none-any.whl\n",
      "Collecting pluggy<0.7,>=0.5 (from pytest->pyldavis)\n",
      "Requirement already satisfied: six>=1.10.0 in /home/marcussky/.local/lib/python3.6/site-packages (from pytest->pyldavis)\n",
      "Building wheels for collected packages: pyldavis, funcy\n",
      "  Running setup.py bdist_wheel for pyldavis ... \u001b[?25ldone\n",
      "\u001b[?25h  Stored in directory: /home/marcussky/.cache/pip/wheels/de/41/af/cba16e4c15ff942728f3345c8f165831b03ad7f4d87cff8b6e\n",
      "  Running setup.py bdist_wheel for funcy ... \u001b[?25ldone\n",
      "\u001b[?25h  Stored in directory: /home/marcussky/.cache/pip/wheels/10/90/e7/6747696c6971dfc6a40231425b7ff73a98324f6d339ea286c9\n",
      "Successfully built pyldavis funcy\n",
      "Installing collected packages: joblib, py, pluggy, pytest, funcy, pyldavis\n",
      "Successfully installed funcy-1.10.1 joblib-0.11 pluggy-0.6.0 py-1.5.2 pyldavis-2.1.1 pytest-3.4.1\n"
     ]
    }
   ],
   "source": [
    "! pip install pyldavis"
   ]
  },
  {
   "cell_type": "code",
   "execution_count": null,
   "metadata": {},
   "outputs": [],
   "source": [
    "from gensim.corpora import Dictionary, MmCorpus\n",
    "from gensim.models.ldamulticore import LdaMulticore\n",
    "from gensim.corpora import Dictionary\n",
    "\n",
    "import pyLDAvis\n",
    "import pyLDAvis.gensim\n",
    "import warnings\n",
    "import cPickle as pickle"
   ]
  },
  {
   "cell_type": "code",
   "execution_count": null,
   "metadata": {},
   "outputs": [],
   "source": [
    "trigram_dictionary_filepath = os.path.join(base_directory,\n",
    "                                           'trigram_dict_all.dict')"
   ]
  },
  {
   "cell_type": "code",
   "execution_count": 43,
   "metadata": {},
   "outputs": [
    {
     "name": "stdout",
     "output_type": "stream",
     "text": [
      "CPU times: user 7.86 s, sys: 21.1 ms, total: 7.88 s\n",
      "Wall time: 7.87 s\n"
     ]
    }
   ],
   "source": [
    "%%time\n",
    "\n",
    "# this is a bit time consuming - make the if statement True\n",
    "# if you want to learn the dictionary yourself.\n",
    "if os.path.exists(trigram_dictionary_filepath):\n",
    "        print(\"A trigram dictionary already exists. \")\n",
    "else:\n",
    "    # learn the dictionary by iterating over all of the reviews\n",
    "    trigram_dictionary = Dictionary(trigram_sentences)\n",
    "    \n",
    "    # filter tokens that are very rare or too common from\n",
    "    # the dictionary (filter_extremes) and reassign integer ids (compactify)\n",
    "    trigram_dictionary.filter_extremes(no_below=10, no_above=0.4)\n",
    "    trigram_dictionary.compactify()\n",
    "\n",
    "    trigram_dictionary.save(trigram_dictionary_filepath)"
   ]
  },
  {
   "cell_type": "code",
   "execution_count": 44,
   "metadata": {},
   "outputs": [],
   "source": [
    "# load the finished dictionary from disk\n",
    "trigram_dictionary = Dictionary.load(trigram_dictionary_filepath)"
   ]
  },
  {
   "cell_type": "code",
   "execution_count": 51,
   "metadata": {},
   "outputs": [],
   "source": [
    "trigram_bow_filepath = os.path.join(base_directory,\n",
    "                                    'trigram_bow_corpus_all.mm')"
   ]
  },
  {
   "cell_type": "code",
   "execution_count": 52,
   "metadata": {},
   "outputs": [],
   "source": [
    "def trigram_bow_generator(filepath):\n",
    "    \"\"\"generator function to read reviews from a file\n",
    "    and yield a bag-of-words representation \"\"\"\n",
    "    \n",
    "    for review in LineSentence(filepath):\n",
    "        yield(trigram_dictionary.doc2bow(review))"
   ]
  },
  {
   "cell_type": "code",
   "execution_count": 55,
   "metadata": {},
   "outputs": [
    {
     "name": "stdout",
     "output_type": "stream",
     "text": [
      "CPU times: user 12.4 s, sys: 293 ms, total: 12.7 s\n",
      "Wall time: 12.7 s\n"
     ]
    }
   ],
   "source": [
    "%%time\n",
    "\n",
    "# this is a bit time consuming - make the if statement True\n",
    "# if you want to build the bag-of-words corpus yourself.\n",
    "if os.path.exists(trigram_bow_filepath):\n",
    "        print(\"A trigram dictionary already exists. \")\n",
    "else:\n",
    "    # generate bag-of-words representations for\n",
    "    # all reviews and save them as a matrix\n",
    "    MmCorpus.serialize(trigram_bow_filepath,\n",
    "                       trigram_bow_generator(trigram_sentences_filepath))\n",
    "    \n",
    "# load the finished bag-of-words corpus from disk\n",
    "trigram_bow_corpus = MmCorpus(trigram_bow_filepath)"
   ]
  },
  {
   "cell_type": "code",
   "execution_count": 56,
   "metadata": {},
   "outputs": [],
   "source": [
    "lda_model_filepath = os.path.join(base_directory, 'lda_model_all')"
   ]
  },
  {
   "cell_type": "code",
   "execution_count": 57,
   "metadata": {},
   "outputs": [
    {
     "name": "stdout",
     "output_type": "stream",
     "text": [
      "CPU times: user 3min 56s, sys: 4.59 s, total: 4min 1s\n",
      "Wall time: 4min 11s\n"
     ]
    }
   ],
   "source": [
    "%%time\n",
    "\n",
    "# this is a bit time consuming - make the if statement True\n",
    "# if you want to train the LDA model yourself.\n",
    "if os.path.exists(lda_model_filepath):\n",
    "        print(\"A lda model already exists. \")\n",
    "else:\n",
    "    with warnings.catch_warnings():\n",
    "        warnings.simplefilter('ignore')\n",
    "        \n",
    "        # workers => sets the parallelism, and should be\n",
    "        # set to your number of physical cores minus one\n",
    "        lda = LdaMulticore(trigram_bow_corpus,\n",
    "                           num_topics=50,\n",
    "                           id2word=trigram_dictionary,\n",
    "                           workers=3)\n",
    "    \n",
    "    lda.save(lda_model_filepath)"
   ]
  },
  {
   "cell_type": "code",
   "execution_count": 61,
   "metadata": {},
   "outputs": [],
   "source": [
    "# load the finished LDA model from disk\n",
    "lda = LdaMulticore.load(lda_model_filepath)"
   ]
  },
  {
   "cell_type": "code",
   "execution_count": 62,
   "metadata": {},
   "outputs": [],
   "source": [
    "def explore_topic(topic_number, topn=25):\n",
    "    \"\"\"accept a user-supplied topic number and\n",
    "    print out a formatted list of the top terms\"\"\"\n",
    "        \n",
    "    print(u'{:20} {}'.format(u'term', u'frequency') + u'\\n')\n",
    "\n",
    "    for term, frequency in lda.show_topic(topic_number, topn=25):\n",
    "        print(u'{:20} {:.3f}'.format(term, round(frequency, 3)))"
   ]
  },
  {
   "cell_type": "code",
   "execution_count": 66,
   "metadata": {},
   "outputs": [
    {
     "name": "stdout",
     "output_type": "stream",
     "text": [
      "term                 frequency\n",
      "\n",
      "interest             0.127\n",
      "december             0.094\n",
      "september            0.060\n",
      "date                 0.060\n",
      "january              0.027\n",
      "november             0.026\n",
      "payment_date         0.026\n",
      "on                   0.021\n",
      "security             0.017\n",
      "a                    0.016\n",
      "at                   0.016\n",
      "period               0.015\n",
      "usd                  0.014\n",
      "distribution         0.013\n",
      "class                0.011\n",
      "to                   0.011\n",
      "be                   0.011\n",
      "rate                 0.010\n",
      "for                  0.009\n",
      "payment              0.009\n",
      "march                0.008\n",
      "first                0.008\n",
      "long_short_position  0.008\n",
      "commencement         0.008\n",
      "issue                0.007\n"
     ]
    }
   ],
   "source": [
    "explore_topic(topic_number=3)"
   ]
  },
  {
   "cell_type": "markdown",
   "metadata": {},
   "source": [
    "Time to name the topics"
   ]
  },
  {
   "cell_type": "code",
   "execution_count": null,
   "metadata": {},
   "outputs": [],
   "source": [
    "topic_names = {0: u'mexican',\n",
    "               1: u'menu',\n",
    "               2: u'thai',\n",
    "               3: u'steak',\n",
    "               4: u'donuts & appetizers',\n",
    "               5: u'specials',\n",
    "               6: u'soup',\n",
    "               7: u'wings, sports bar',\n",
    "               8: u'foreign language',\n",
    "               9: u'las vegas',\n",
    "               10: u'chicken',\n",
    "               11: u'aria buffet',\n",
    "               12: u'noodles',\n",
    "               13: u'ambience & seating',\n",
    "               14: u'sushi',\n",
    "               15: u'arizona',\n",
    "               16: u'family',\n",
    "               17: u'price',\n",
    "               18: u'sweet',\n",
    "               19: u'waiting',\n",
    "               20: u'general',\n",
    "               21: u'tapas',\n",
    "               22: u'dirty',\n",
    "               23: u'customer service',\n",
    "               24: u'restrooms',\n",
    "               25: u'chinese',\n",
    "               26: u'gluten free',\n",
    "               27: u'pizza',\n",
    "               28: u'seafood',\n",
    "               29: u'amazing',\n",
    "               30: u'eat, like, know, want',\n",
    "               31: u'bars',\n",
    "               32: u'breakfast',\n",
    "               33: u'location & time',\n",
    "               34: u'italian',\n",
    "               35: u'barbecue',\n",
    "               36: u'arizona',\n",
    "               37: u'indian',\n",
    "               38: u'latin & cajun',\n",
    "               39: u'burger & fries',\n",
    "               40: u'vegetarian',\n",
    "               41: u'lunch buffet',\n",
    "               42: u'customer service',\n",
    "               43: u'taco, ice cream',\n",
    "               44: u'high cuisine',\n",
    "               45: u'healthy',\n",
    "               46: u'salad & sandwich',\n",
    "               47: u'greek',\n",
    "               48: u'poor experience',\n",
    "               49: u'wine & dine'}"
   ]
  },
  {
   "cell_type": "code",
   "execution_count": null,
   "metadata": {},
   "outputs": [],
   "source": [
    "topic_names_filepath = os.path.join(base_directory, 'topic_names.pkl')\n",
    "\n",
    "with open(topic_names_filepath, 'w') as f:\n",
    "    pickle.dump(topic_names, f)"
   ]
  },
  {
   "cell_type": "code",
   "execution_count": null,
   "metadata": {},
   "outputs": [],
   "source": [
    "LDAvis_data_filepath = os.path.join(base_directory, 'ldavis_prepared')"
   ]
  },
  {
   "cell_type": "code",
   "execution_count": null,
   "metadata": {},
   "outputs": [],
   "source": [
    "%%time\n",
    "\n",
    "# this is a bit time consuming - make the if statement True\n",
    "# if you want to execute data prep yourself.\n",
    "if os.path.exists(LDAvis_data_filepath):\n",
    "        print(\"A LDAvis data already exists. \")\n",
    "else:\n",
    "    LDAvis_prepared = pyLDAvis.gensim.prepare(lda, trigram_bow_corpus,\n",
    "                                              trigram_dictionary)\n",
    "\n",
    "    with open(LDAvis_data_filepath, 'w') as f:\n",
    "        pickle.dump(LDAvis_prepared, f)\n",
    "        \n",
    "# load the pre-prepared pyLDAvis data from disk\n",
    "with open(LDAvis_data_filepath) as f:\n",
    "    LDAvis_prepared = pickle.load(f)"
   ]
  },
  {
   "cell_type": "markdown",
   "metadata": {},
   "source": [
    "Time to visualize the model"
   ]
  },
  {
   "cell_type": "code",
   "execution_count": null,
   "metadata": {},
   "outputs": [],
   "source": [
    "pyLDAvis.display(LDAvis_prepared)"
   ]
  },
  {
   "cell_type": "markdown",
   "metadata": {},
   "source": [
    "## Describing LDA"
   ]
  },
  {
   "cell_type": "code",
   "execution_count": null,
   "metadata": {},
   "outputs": [],
   "source": []
  },
  {
   "cell_type": "markdown",
   "metadata": {},
   "source": [
    "# Word Vectors"
   ]
  },
  {
   "cell_type": "code",
   "execution_count": null,
   "metadata": {},
   "outputs": [],
   "source": []
  }
 ],
 "metadata": {
  "kernelspec": {
   "display_name": "Python 3",
   "language": "python",
   "name": "python3"
  },
  "language_info": {
   "codemirror_mode": {
    "name": "ipython",
    "version": 3
   },
   "file_extension": ".py",
   "mimetype": "text/x-python",
   "name": "python",
   "nbconvert_exporter": "python",
   "pygments_lexer": "ipython3",
   "version": "3.6.3"
  }
 },
 "nbformat": 4,
 "nbformat_minor": 2
}
